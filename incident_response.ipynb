{
 "cells": [
  {
   "cell_type": "markdown",
   "metadata": {
    "deletable": true,
    "editable": true
   },
   "source": [
    "## Incident handling at Kayako\n",
    "\n",
    "We at Kayako strive for the number of 9's in our uptime metric. We want to ensure minimum service disruption for our customers, and therefore we need to work hard on the following two aspects: \n",
    "\n",
    "1. Identifying that an incident has occurred \n",
    "2. Minimizing the impact of the incident\n",
    "\n",
    "\n",
    "### Identifying an incident\n",
    "\n",
    "Our goal is to identify an incident before our customer. It not only helps us in proactively informing our customers on the ongoing issues but also helps us to prepare our Support team better for the incoming queries. It is a step towards better customer experience, which is what Kayako is all about.\n",
    "\n",
    "To achieve this goal, we have monitoring at multiple levels in our entire infra, and we are improving it continuously. Most of these monitoring tools are either integrated with [Slack](https://medium.com/life-at-kayako/staying-on-top-of-our-stack-with-slack-e72c34a0b090#.vj5q9wig6) or Pagerduty so that our SRE team is the first one to know about these incidents.\n",
    "\n",
    "Some of the things that we currently monitor are:\n",
    "\n",
    "1. Health of our servers (like load, memory-usage, io wait, etc.)\n",
    "2. Health of individual Kayako helpdesks (crons, emails, search, queues, realtime dispatch, etc.)\n",
    "3. Connectivity within our infra (for ex: if application is able to connect to the Database)\n",
    "4. Health of Database\n",
    "5. Any delays in outgoing emails\n",
    "6. Spam alerts\n",
    "7. Health of our microservices\n",
    "8. Trial sign-ups failures \n",
    "9. Timely DB backups\n",
    "10. Any suspicious activity\n",
    "11. Health of critical processes like Nginx, supervisord, etc.\n",
    "\n",
    "...and the list goes on. Once we have identified an incident, it brings up to the next step:\n",
    "\n",
    "### Minimizing the impact of an incident\n",
    "\n",
    "Incidents are inevitable, things do go wrong, but our goal is to minimize the impact on our customers. We have a Standard Operating Procedure (SOP) around incidents response, and one of the critical parts of that SOP is an _issue_ channel.\n",
    "\n",
    "We create a channel on Slack for every new incident (called an \"issue\" channel), all the relevant stakeholders join that channel, and all the discussion about the incident happen only in that channel. The issue channel remains open until we do a post-mortem, find the root cause of the issue and fix it. The channel is archived once we fix the root cause.\n",
    "\n",
    "Before I go into the details of our SOP, let's first start by listing down all the issue channels that we currently have. We follow convention as #issue-topic-ddmm. So if there is an issue with our crons on 12th March 2016, we will create a channel #issue-cron-1203."
   ]
  },
  {
   "cell_type": "code",
   "execution_count": 66,
   "metadata": {
    "collapsed": false,
    "deletable": true,
    "editable": true
   },
   "outputs": [
    {
     "name": "stdout",
     "output_type": "stream",
     "text": [
      "207\n"
     ]
    }
   ],
   "source": [
    "import requests\n",
    "import json\n",
    "\n",
    "slack_token = 'xxx'\n",
    "slack_channel_list = 'https://slack.com/api/channels.list'\n",
    "\n",
    "# Let's first fetch all the channels from the Slack API\n",
    "r = requests.get(slack_channel_list, params={'token': slack_token})\n",
    "\n",
    "# and load them into a JSON object\n",
    "channels = json.loads(r.text)\n",
    "\n",
    "# Now let's filter out the issue channels from all the channels\n",
    "issue_channels = list(filter(lambda x: x[\"name\"].startswith(\"issue-\"), channels.get(\"channels\")))\n",
    "\n",
    "# Let's see how many channels do we have\n",
    "print(len(issue_channels))"
   ]
  },
  {
   "cell_type": "markdown",
   "metadata": {
    "deletable": true,
    "editable": true
   },
   "source": [
    "#### 207, that's a lot of issues!\n",
    "\n",
    "But before we conclude anything, let's see what is the time range in which these channels span:"
   ]
  },
  {
   "cell_type": "code",
   "execution_count": 61,
   "metadata": {
    "collapsed": false,
    "deletable": true,
    "editable": true
   },
   "outputs": [
    {
     "name": "stdout",
     "output_type": "stream",
     "text": [
      "First issue channel: 2016-03-11 06:55:23\n",
      "Last issue channel: 2017-03-23 00:43:10\n",
      "Average number of issue channels per month: 16\n"
     ]
    }
   ],
   "source": [
    "from datetime import datetime\n",
    "\n",
    "# We will sort these channels by created date, which is a unix-timestamp\n",
    "issue_channels = sorted(issue_channels, key = lambda x: x['created'])\n",
    "\n",
    "# Let's pick the first and the last created channel\n",
    "first_channel = issue_channels[0]\n",
    "last_channel = issue_channels[-1]\n",
    "\n",
    "# Let's look at the average number of issue channels per month\n",
    "# Since the timestamp is in seconds, therefore we convert it to months\n",
    "total_months = (last_channel['created'] - first_channel['created']) / (60 * 60 * 24 * 30)\n",
    "\n",
    "average = int(len(issue_channels) / total_months)\n",
    "\n",
    "print(\"First issue channel: \" + str(datetime.fromtimestamp(first_channel['created'])))\n",
    "print(\"Last issue channel: \" + str(datetime.fromtimestamp(last_channel['created'])))\n",
    "print(\"Average number of issue channels per month: \" + str(average))"
   ]
  },
  {
   "cell_type": "markdown",
   "metadata": {
    "deletable": true,
    "editable": true
   },
   "source": [
    "Let's see how many of these issue channels are active as of now:"
   ]
  },
  {
   "cell_type": "code",
   "execution_count": 62,
   "metadata": {
    "collapsed": false,
    "deletable": true,
    "editable": true
   },
   "outputs": [
    {
     "name": "stdout",
     "output_type": "stream",
     "text": [
      "3\n"
     ]
    }
   ],
   "source": [
    "active_issue_channels = list(filter(lambda x: not x[\"is_archived\"], issue_channels))\n",
    "        \n",
    "print(len(active_issue_channels))"
   ]
  },
  {
   "cell_type": "markdown",
   "metadata": {
    "deletable": true,
    "editable": true
   },
   "source": [
    "#### Only 3 active issue channels!\n",
    "\n",
    "Active not necessarily mean that the issue is ongoing, it can also mean that the issue is resolved, however, the root cause analysis is pending (which is the case here).\n",
    "\n",
    "Do you want to know what was my worst day in the last one year? Let's find out"
   ]
  },
  {
   "cell_type": "code",
   "execution_count": 63,
   "metadata": {
    "collapsed": false,
    "deletable": true,
    "editable": true
   },
   "outputs": [
    {
     "name": "stdout",
     "output_type": "stream",
     "text": [
      "Worst day in last year: 2016-08-09\n",
      "Total number of issue channels created on this date: 6\n"
     ]
    }
   ],
   "source": [
    "# Let's find out the maximum number of issue channels created in a day\n",
    "from collections import OrderedDict\n",
    "\n",
    "# We will create an ordered dictionary with tuples date and count\n",
    "# The structure will look like: {(date, count), ...}\n",
    "\n",
    "# Let's create the 'key' (date) for our tuple from timestamp\n",
    "def get_date_from_timestamp(timestamp):\n",
    "    return datetime.fromtimestamp(timestamp).strftime('%Y-%m-%d')\n",
    "\n",
    "# Iterate over all the channels and count the channels created same day\n",
    "channels_on_dates = OrderedDict()\n",
    "for channel in issue_channels:\n",
    "    creation_date = get_date_from_timestamp(channel['created'])\n",
    "    \n",
    "    if creation_date not in channels_on_dates.keys():\n",
    "        channels_on_dates[creation_date] = 1\n",
    "    else:\n",
    "        channels_on_dates[creation_date] += 1\n",
    "\n",
    "# Let's sort the dictionary based on number of channels\n",
    "channels_on_dates = sorted(channels_on_dates.items(), key = lambda x: x[1])\n",
    "\n",
    "# Let's print the maximum number of channels\n",
    "print(\"Worst day in last year: \" + str(channels_on_dates[-1][0]))\n",
    "print(\"Total number of issue channels created on this date: \" + str(channels_on_dates[-1][1]))"
   ]
  },
  {
   "cell_type": "markdown",
   "metadata": {
    "deletable": true,
    "editable": true
   },
   "source": [
    "Let's try to analyze the trend of issue channels over time. To find a trend, we need to need to know the archive date of a channel, which is not present in the issue_channels list that we have. Fortunately, Slack has an API to get the archive date of a channel."
   ]
  },
  {
   "cell_type": "code",
   "execution_count": 67,
   "metadata": {
    "collapsed": false,
    "deletable": true,
    "editable": true
   },
   "outputs": [],
   "source": [
    "# Let's fetch archive date from history API\n",
    "import math\n",
    "\n",
    "slack_channel_history = 'https://slack.com/api/channels.history'\n",
    "\n",
    "# This methods return archive date from channel ID\n",
    "def get_archive_date(channel_id):\n",
    "    r = requests.get(slack_channel_history, params={'token': slack_token, 'channel': channel_id})\n",
    "\n",
    "    for message in json.loads(r.text).get('messages'):\n",
    "        # This code assumes that archive key will be present in first paginatinated response\n",
    "        # otherwise we simply assume that the channel is not archived yet\n",
    "        if 'subtype' in message and message['subtype'] == 'channel_archive':\n",
    "            return message['ts']\n",
    "    \n",
    "    return math.inf\n",
    "\n",
    "for channel in issue_channels:\n",
    "    channel['archived'] = get_archive_date(channel['id'])"
   ]
  },
  {
   "cell_type": "markdown",
   "metadata": {
    "deletable": true,
    "editable": true
   },
   "source": [
    "Now we have archived dates in our issue_channels list. Let's try to plot the number of open issue channels over time in the given date range. To plot this, we will create a range of dates for X-axis and the number of issue channels that were open on that date on the Y axis."
   ]
  },
  {
   "cell_type": "code",
   "execution_count": 68,
   "metadata": {
    "collapsed": false,
    "deletable": true,
    "editable": true
   },
   "outputs": [],
   "source": [
    "import time\n",
    "\n",
    "# Returns if the channel was open at a given timestamp\n",
    "def was_open(channel, timestamp):\n",
    "    return timestamp >= float(channel['created']) and timestamp <= float(channel['archived'])\n",
    "\n",
    "def timestamp_to_date(timestamp):\n",
    "    return datetime.fromtimestamp(timestamp)\n",
    "\n",
    "# We will start X-axis date just before our first issue channel\n",
    "start_timestamp = first_channel['created'] - 1000 # 1000 can be any positive value\n",
    "end_timestamp = time.time()\n",
    "interval = 60 * 60 * 24 * 30 # We will create a monthly interval\n",
    "\n",
    "# Let's generate our X-axis\n",
    "xaxis = list(range(int(start_timestamp), int(end_timestamp), interval))\n",
    "\n",
    "# We might have skipped the current timestamp because it might have been\n",
    "# overflowed the range, so let's add it explicitly\n",
    "xaxis.append(int(time.time()))\n",
    "\n",
    "yaxis = [] # we need to find the values\n",
    "\n",
    "for date in xaxis:\n",
    "    open_channels = 0\n",
    "    for channel in issue_channels:\n",
    "        if was_open(channel, date):\n",
    "            open_channels += 1\n",
    "        \n",
    "    yaxis.append(open_channels)\n",
    "    \n",
    "# Convert convert the timestamps to actual dates\n",
    "xaxis = list(map(timestamp_to_date, xaxis))"
   ]
  },
  {
   "cell_type": "markdown",
   "metadata": {
    "deletable": true,
    "editable": true
   },
   "source": [
    "So we have our range on X-axis and the corresponding number of open issue channels on Y-axis. Let's plot them:"
   ]
  },
  {
   "cell_type": "code",
   "execution_count": 69,
   "metadata": {
    "collapsed": false,
    "deletable": true,
    "editable": true
   },
   "outputs": [
    {
     "data": {
      "image/png": "[encoded data removed]",
      "text/plain": [
       "<matplotlib.figure.Figure at 0x10bc935f8>"
      ]
     },
     "metadata": {},
     "output_type": "display_data"
    }
   ],
   "source": [
    "%matplotlib inline\n",
    "\n",
    "import matplotlib\n",
    "import matplotlib.pyplot as plt\n",
    "\n",
    "plt.plot(xaxis, yaxis, linewidth=2.0)\n",
    "plt.ylabel('Number of issue channels')\n",
    "plt.xlabel('Date')\n",
    "\n",
    "plt.title('Issue channels over time')\n",
    "plt.autoscale(enable=True, tight=False)\n",
    "\n",
    "plt.show()"
   ]
  },
  {
   "cell_type": "markdown",
   "metadata": {
    "deletable": true,
    "editable": true
   },
   "source": [
    "#### Interpreting the graph\n",
    "\n",
    "We launched The New Kayako in **July 2016**, and there was a steep rise in the number of issue channels. Just like with any other product launch, things were not so stable. We worked hard on fixing the root issues and making sure that the problems don't repeat. Whatever issues we encountered, they were fixed forever. The results you can see by yourself. There is a declining trend in the number of incidents. The system has become a lot more stable from where we started. We have spent countless nights to reach the current state.\n",
    "\n",
    "By no way this is an ideal state, we are continuously improving and getting stable with every passing day.\n",
    "\n",
    "#### Issue channels, hit or miss?\n",
    "\n",
    "I would leave it to the readers to decide if this strategy was a success or a failure. I have shared a part of the data that we have on it.\n",
    "\n",
    "#### Standard Operating Procedure for Incidents\n",
    "\n",
    "Issue channel is just one of the many things that we follow to minimize the impact of an incident. Let me share some points from our SOP document on the incident response:\n",
    "\n",
    "* Change your mindset - quickly say the following things to yourself.\n",
    "    * This is an extreme situation and my normal behavior is not ideal in this context\n",
    "    * The customer is suffering because of us and it is paramount to restore services first - anyway possible\n",
    "    * We are not debugging, that is for later, we don’t care for root causes right now - only solutions\n",
    "    * I will lose my sense of time as I start working, I must put a timer that repeats every 10 mins so I realize the passage of time\n",
    "    * I may not be able to solve this alone\n",
    "    * I don’t need to know everything before I escalate. If it’s time to escalate, I will do it even with incomplete information.\n",
    "    * The escalation is a form of communication and the act alone has value.\n",
    "    * I am not the only person impacted by this problem. I am not the only person worried about it. But I am the closest to the action and therefore all communication starts at me.\n",
    "\n",
    "* Build context, answer the following questions as best as you can don’t spend more than two minutes on this\n",
    "    * Which component seems to be the source of this problem?\n",
    "    * What is the frequency or duration of this problem?\n",
    "    * What other components are affected by this behaviour?\n",
    "    * What is the severity of this issue? It’s critical or severe if one or more customers are facing a downtime\n",
    "    \n",
    "* In the issue channel set the topic to a brief line about the problem and add names for SRE issue owner and Developer/Product Engineer issue owner, as applicable\n",
    "\n",
    "* Check the escalation matrix periodically and escalate as required\n",
    "\n",
    "* Update issue channel with summary of issue, cover the following points, if something is not known say its ‘UNKNOWN’\n",
    "    * Environment: Staging / Production\n",
    "    * Component responsible for problem\n",
    "    * Probable cause if known\n",
    "    * Frequency or Duration of issue\n",
    "    * Type: Self (Engineering), Unknown, Scale (any scalability problems etc), Vendor (AWS, Dynect, Sendgrid, Realtime etc)\n",
    "    * Estimated Time to recovery (If Unknown, take an educated guess is it a matter of minutes, hours, or days)\n",
    "    * Who is working to fix this\n",
    "    * Current action step\n",
    "    * Next action step\n",
    "\n",
    "### Summary\n",
    "\n",
    "Production outages are extreme pressure situations, in such situations, we try to:\n",
    "\n",
    "* Communicate as much as possible – to engineering teams, to support teams or any other stakeholders\n",
    "* Minimize the downtime and impact\n",
    "* Leave trails for finding and fixing root cause right afterward\n",
    "* Escalate as required\n",
    "\n",
    "I mentioned some of the tools and processes that we use to achieve these goals. They are not perfect, and we keep them improving based on the feedback. If you have similar processes in your company, drop a comment below and let us know!"
   ]
  }
 ],
 "metadata": {
  "kernelspec": {
   "display_name": "Python 3",
   "language": "python",
   "name": "python3"
  },
  "language_info": {
   "codemirror_mode": {
    "name": "ipython",
    "version": 3
   },
   "file_extension": ".py",
   "mimetype": "text/x-python",
   "name": "python",
   "nbconvert_exporter": "python",
   "pygments_lexer": "ipython3",
   "version": "3.6.0"
  }
 },
 "nbformat": 4,
 "nbformat_minor": 2
}
